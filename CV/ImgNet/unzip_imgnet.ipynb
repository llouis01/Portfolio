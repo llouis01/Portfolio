{
 "cells": [
  {
   "cell_type": "markdown",
   "metadata": {},
   "source": [
    "## Unzip Folder If Running for First Time ##"
   ]
  },
  {
   "cell_type": "code",
   "execution_count": null,
   "metadata": {},
   "outputs": [],
   "source": [
    "# import ZipFile and unzip folder\n",
    "import zipfile as ZF\n",
    "\n",
    "zip_path = \"C:/Users/RoiMinuit/Desktop/data/ILSVRC.zip\"\n",
    "zip_to = \"C:/Users/RoiMinuit/Desktop/data/ILSVRC\"\n",
    "\n",
    "def UnzipFolder(zip_folder, unzip_folder):\n",
    "    with ZF.ZipFile(zip_folder, 'r') as zip_ref:\n",
    "        zip_ref.extractall(unzip_folder)\n",
    "\n",
    "UnzipFolder(zip_path, zip_to)\n",
    "\n",
    "# should take roughly 32 mins to unzip"
   ]
  }
 ],
 "metadata": {
  "language_info": {
   "name": "python"
  }
 },
 "nbformat": 4,
 "nbformat_minor": 2
}
