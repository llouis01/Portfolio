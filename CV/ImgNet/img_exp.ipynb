{
  "cells": [
    {
      "cell_type": "markdown",
      "source": [
        "# Drive Mount #"
      ],
      "metadata": {
        "id": "42agdHzUGlhk"
      }
    },
    {
      "cell_type": "code",
      "source": [
        "from google.colab import drive\n",
        "drive.mount('/content/drive')"
      ],
      "metadata": {
        "colab": {
          "base_uri": "https://localhost:8080/"
        },
        "id": "EjPYD8y5DI-H",
        "outputId": "69c743fd-6224-4180-a936-4960c317ed37"
      },
      "execution_count": 8,
      "outputs": [
        {
          "output_type": "stream",
          "name": "stdout",
          "text": [
            "Mounted at /content/drive\n"
          ]
        }
      ]
    },
    {
      "cell_type": "markdown",
      "metadata": {
        "id": "oIJfJqKO0p0z"
      },
      "source": [
        "# ** Utils.py Import ** #"
      ]
    },
    {
      "cell_type": "code",
      "source": [
        "\"\"\" Utils for importing images and data \"\"\"\n",
        "\n",
        "## library imports ##\n",
        "import os\n",
        "import cv2\n",
        "import time\n",
        "import random\n",
        "import numpy as np\n",
        "import matplotlib.pyplot as plt\n",
        "from concurrent.futures import ThreadPoolExecutor\n",
        "\n",
        "\n",
        "## func to import test and val images\n",
        "def import_others(img_dir, img_num=int):\n",
        "    \"\"\" Import images from the specified directory \"\"\"\n",
        "    start = time.time()\n",
        "    processed_images = []\n",
        "    img_paths = []\n",
        "\n",
        "    def process_image_batches(img_paths, processed_images, img_num):\n",
        "        \"\"\" Import images from the specified directory \"\"\"\n",
        "\n",
        "        # read in image, resize, grayscale, and normalize\n",
        "        for i in range(0, img_num):\n",
        "            img_path = cv2.imread(img_paths[i])\n",
        "            img = cv2.resize(img_path, (224, 224))\n",
        "            img = cv2.cvtColor(img, cv2.COLOR_BGR2GRAY)\n",
        "            img = np.expand_dims(img, axis = 2)\n",
        "            img = img / 255.0\n",
        "            processed_images.append(img)\n",
        "            completed_percentage = (i / img_num) * 100\n",
        "            if completed_percentage in [25, 50, 75, 100]:\n",
        "                print(f\"Images processed: {i} ({round(completed_percentage)}%)\")\n",
        "\n",
        "    # collect image paths\n",
        "    for root, dirs, files in os.walk(img_dir):\n",
        "            for file in files:\n",
        "                if file.endswith(\".JPEG\"):\n",
        "                     img_paths.append(os.path.join(root, file))\n",
        "\n",
        "    # shuffle images to get random images from random folders and process while generating labels\n",
        "    random.shuffle(img_paths)\n",
        "    process_image_batches(img_paths, processed_images, img_num)\n",
        "\n",
        "    # return run stats and data\n",
        "    end = time.time()\n",
        "    print(f\"Function processed {img_dir} in {round(end - start)} seconds.\\n\")\n",
        "    return processed_images\n",
        "\n",
        "\n",
        "## func to view training images with their assigned labels\n",
        "def view_train_images(x, y, n = 5):\n",
        "    \"\"\" view train data \"\"\"\n",
        "    for img in range(0, 5):\n",
        "        plt.imshow(x[img], cmap=\"gray\")\n",
        "        plt.show()\n",
        "        print(y[img])\n",
        "\n",
        "\n",
        "def plot_training_results(history):\n",
        "     \"\"\" Plot Accuracy Results \"\"\"\n",
        "     plt.figure(figsize=(12, 4))\n",
        "     plt.subplot(1, 2, 1)\n",
        "     plt.plot(history.history['accuracy'])\n",
        "     plt.plot(history.history['val_accuracy'])\n",
        "     plt.title('Model Accuracy')\n",
        "     plt.xlabel('Epoch')\n",
        "     plt.ylabel('Accuracy')\n",
        "     plt.legend(['Train', 'Val'], loc='best')\n",
        "     plt.show()\n",
        "\n",
        "     \"\"\" Plot Loss Results \"\"\"\n",
        "     plt.subplot(1, 2, 2)\n",
        "     plt.plot(history.history['loss'])\n",
        "     plt.plot(history.history['val_loss'])\n",
        "     plt.title('Model Loss')\n",
        "     plt.xlabel('Epoch')\n",
        "     plt.ylabel('Loss')\n",
        "     plt.legend(['Train', 'Val'], loc='best')\n",
        "     plt.show()\n",
        "\n",
        "\n",
        "def fast_import2(img_dir, img_num=int):\n",
        "    \"\"\" Import and preprocess images concurrently from the specified directory \"\"\"\n",
        "    start = time.time()\n",
        "\n",
        "    # Helper function to process individual images\n",
        "    def process_image(img_path):\n",
        "        \"\"\" Read and preprocess a single image, returning the processed image and its label \"\"\"\n",
        "        img = cv2.imread(img_path)\n",
        "        img = cv2.resize(img, (128, 128), interpolation=cv2.INTER_CUBIC)\n",
        "        img = cv2.cvtColor(img, cv2.COLOR_BGR2GRAY)\n",
        "        img = np.expand_dims(img, axis=2)\n",
        "        img = img / 255.0\n",
        "        label = img_path.split(os.path.sep)[-2]  # label is the parent folder of the image\n",
        "        return img, label\n",
        "\n",
        "    # Collect image paths\n",
        "    img_paths = [os.path.join(root, file)\n",
        "                 for root, dirs, files in os.walk(img_dir)\n",
        "                 for file in files if file.endswith(\".JPEG\")]\n",
        "\n",
        "    # Shuffle images to get random images from random folders\n",
        "    random.shuffle(img_paths)\n",
        "    img_num = min(img_num, len(img_paths))\n",
        "    img_paths = img_paths[:img_num]\n",
        "\n",
        "    processed_images = []\n",
        "    labels = []\n",
        "\n",
        "    # Use ThreadPoolExecutor to process images concurrently\n",
        "    with ThreadPoolExecutor(max_workers=8) as executor:  # You can adjust the number of threads here\n",
        "        results = executor.map(process_image, img_paths)\n",
        "\n",
        "    # Collect processed images and labels\n",
        "    for img, label in results:\n",
        "        processed_images.append(img)\n",
        "        labels.append(label)\n",
        "\n",
        "    # Output stats\n",
        "    end = time.time()\n",
        "    print(f\"Function processed {img_num} images in {round(end - start)} seconds.\\n\")\n",
        "\n",
        "    return processed_images, labels\n",
        "\n",
        "\n",
        "# func to get data for CV project\n",
        "def get_images(train_dir, val_dir, train_num = 0):\n",
        "    \"\"\" Get data for CV project \"\"\"\n",
        "    X_train, Y_train = fast_import2(train_dir, train_num)\n",
        "    X_val, Y_val = fast_import2(val_dir, int(.15 * train_num))\n",
        "    return X_train, Y_train, X_val, Y_val"
      ],
      "metadata": {
        "id": "z2no2jIyCGSO"
      },
      "execution_count": 16,
      "outputs": []
    },
    {
      "cell_type": "markdown",
      "metadata": {
        "id": "M7Up2Vhz_fBR"
      },
      "source": [
        "https://hub.docker.com/r/tensorflow/tensorflow"
      ]
    },
    {
      "cell_type": "code",
      "execution_count": 17,
      "metadata": {
        "id": "f9bNrWRM0p02"
      },
      "outputs": [],
      "source": [
        "# Import libraries\n",
        "import os\n",
        "import cv2\n",
        "import time\n",
        "import random\n",
        "import gc as G\n",
        "import numpy as np\n",
        "import pandas as pd\n",
        "import tensorflow as tf\n",
        "from pathlib import Path\n",
        "from tensorflow.keras import layers\n",
        "from tensorflow import keras\n",
        "from tensorflow.keras import backend as K, mixed_precision\n",
        "import matplotlib.pyplot as plt\n",
        "from tensorflow.keras.utils import to_categorical\n",
        "from tensorflow.keras.metrics import Precision, Recall\n",
        "from tensorflow.keras.optimizers import Adam, SGD\n",
        "from tensorflow.keras.callbacks import EarlyStopping, ReduceLROnPlateau as RLOP\n",
        "from sklearn.preprocessing import LabelEncoder\n",
        "from tensorflow.keras.layers import Conv2D, MaxPooling2D, Flatten, Dense, Dropout, GlobalAveragePooling2D, BatchNormalization\n"
      ]
    },
    {
      "cell_type": "code",
      "execution_count": 18,
      "metadata": {
        "id": "bkC5sSUipX8L",
        "outputId": "2a842d15-1b75-4c0e-c09c-a8cb55b4a862",
        "colab": {
          "base_uri": "https://localhost:8080/"
        }
      },
      "outputs": [
        {
          "output_type": "stream",
          "name": "stdout",
          "text": [
            "2.18.0\n",
            "Num GPUs Available:  1\n",
            "Using device: /GPU:0\n"
          ]
        }
      ],
      "source": [
        "# # set up for GPU usage\n",
        "K.clear_session()\n",
        "print(tf.__version__)\n",
        "print(\"Num GPUs Available: \", len(tf.config.list_physical_devices('GPU')))\n",
        "\n",
        "device = \"/GPU:0\" if tf.config.list_physical_devices('GPU') else \"/CPU:0\"\n",
        "print(f\"Using device: {device}\")\n"
      ]
    },
    {
      "cell_type": "code",
      "execution_count": 19,
      "metadata": {
        "id": "yXx3t9tQpX8O",
        "outputId": "0df7eb8f-394e-4511-e91c-1102f4b88b18",
        "colab": {
          "base_uri": "https://localhost:8080/",
          "height": 373
        }
      },
      "outputs": [
        {
          "output_type": "error",
          "ename": "ValueError",
          "evalue": "Cannot set memory growth on device when virtual devices configured",
          "traceback": [
            "\u001b[0;31m---------------------------------------------------------------------------\u001b[0m",
            "\u001b[0;31mValueError\u001b[0m                                Traceback (most recent call last)",
            "\u001b[0;32m/tmp/ipython-input-19-3009330266.py\u001b[0m in \u001b[0;36m<cell line: 0>\u001b[0;34m()\u001b[0m\n\u001b[1;32m      4\u001b[0m     \u001b[0;32mtry\u001b[0m\u001b[0;34m:\u001b[0m\u001b[0;34m\u001b[0m\u001b[0;34m\u001b[0m\u001b[0m\n\u001b[1;32m      5\u001b[0m         \u001b[0;32mfor\u001b[0m \u001b[0mgpu\u001b[0m \u001b[0;32min\u001b[0m \u001b[0mgpus\u001b[0m\u001b[0;34m:\u001b[0m\u001b[0;34m\u001b[0m\u001b[0;34m\u001b[0m\u001b[0m\n\u001b[0;32m----> 6\u001b[0;31m             \u001b[0mtf\u001b[0m\u001b[0;34m.\u001b[0m\u001b[0mconfig\u001b[0m\u001b[0;34m.\u001b[0m\u001b[0mexperimental\u001b[0m\u001b[0;34m.\u001b[0m\u001b[0mset_memory_growth\u001b[0m\u001b[0;34m(\u001b[0m\u001b[0mgpu\u001b[0m\u001b[0;34m,\u001b[0m \u001b[0;32mTrue\u001b[0m\u001b[0;34m)\u001b[0m  \u001b[0;31m# Prevents TensorFlow from allocating all memory at once\u001b[0m\u001b[0;34m\u001b[0m\u001b[0;34m\u001b[0m\u001b[0m\n\u001b[0m\u001b[1;32m      7\u001b[0m             \u001b[0mprint\u001b[0m\u001b[0;34m(\u001b[0m\u001b[0;34mf\"Enabled memory growth for: {gpu}\"\u001b[0m\u001b[0;34m)\u001b[0m\u001b[0;34m\u001b[0m\u001b[0;34m\u001b[0m\u001b[0m\n\u001b[1;32m      8\u001b[0m \u001b[0;34m\u001b[0m\u001b[0m\n",
            "\u001b[0;32m/usr/local/lib/python3.11/dist-packages/tensorflow/python/framework/config.py\u001b[0m in \u001b[0;36mset_memory_growth\u001b[0;34m(device, enable)\u001b[0m\n\u001b[1;32m    752\u001b[0m     \u001b[0mRuntimeError\u001b[0m\u001b[0;34m:\u001b[0m \u001b[0mRuntime\u001b[0m \u001b[0;32mis\u001b[0m \u001b[0malready\u001b[0m \u001b[0minitialized\u001b[0m\u001b[0;34m.\u001b[0m\u001b[0;34m\u001b[0m\u001b[0;34m\u001b[0m\u001b[0m\n\u001b[1;32m    753\u001b[0m   \"\"\"\n\u001b[0;32m--> 754\u001b[0;31m   \u001b[0mcontext\u001b[0m\u001b[0;34m.\u001b[0m\u001b[0mcontext\u001b[0m\u001b[0;34m(\u001b[0m\u001b[0;34m)\u001b[0m\u001b[0;34m.\u001b[0m\u001b[0mset_memory_growth\u001b[0m\u001b[0;34m(\u001b[0m\u001b[0mdevice\u001b[0m\u001b[0;34m,\u001b[0m \u001b[0menable\u001b[0m\u001b[0;34m)\u001b[0m\u001b[0;34m\u001b[0m\u001b[0;34m\u001b[0m\u001b[0m\n\u001b[0m\u001b[1;32m    755\u001b[0m \u001b[0;34m\u001b[0m\u001b[0m\n\u001b[1;32m    756\u001b[0m \u001b[0;34m\u001b[0m\u001b[0m\n",
            "\u001b[0;32m/usr/local/lib/python3.11/dist-packages/tensorflow/python/eager/context.py\u001b[0m in \u001b[0;36mset_memory_growth\u001b[0;34m(self, dev, enable)\u001b[0m\n\u001b[1;32m   1978\u001b[0m \u001b[0;34m\u001b[0m\u001b[0m\n\u001b[1;32m   1979\u001b[0m     \u001b[0;32mif\u001b[0m \u001b[0mdev\u001b[0m \u001b[0;32min\u001b[0m \u001b[0mself\u001b[0m\u001b[0;34m.\u001b[0m\u001b[0m_virtual_device_map\u001b[0m\u001b[0;34m:\u001b[0m\u001b[0;34m\u001b[0m\u001b[0;34m\u001b[0m\u001b[0m\n\u001b[0;32m-> 1980\u001b[0;31m       raise ValueError(\n\u001b[0m\u001b[1;32m   1981\u001b[0m           \u001b[0;34m\"Cannot set memory growth on device when virtual devices configured\"\u001b[0m\u001b[0;34m\u001b[0m\u001b[0;34m\u001b[0m\u001b[0m\n\u001b[1;32m   1982\u001b[0m       )\n",
            "\u001b[0;31mValueError\u001b[0m: Cannot set memory growth on device when virtual devices configured"
          ]
        }
      ],
      "source": [
        "# limit usage of GPU memory\n",
        "gpus = tf.config.list_physical_devices('GPU')\n",
        "if gpus:\n",
        "    try:\n",
        "        for gpu in gpus:\n",
        "            tf.config.experimental.set_memory_growth(gpu, True)  # Prevents TensorFlow from allocating all memory at once\n",
        "            print(f\"Enabled memory growth for: {gpu}\")\n",
        "\n",
        "        # Set GPU device\n",
        "        device = \"/GPU:0\"\n",
        "    except RuntimeError as e:\n",
        "        print(e)\n",
        "else:\n",
        "    device = \"/CPU:0\"\n",
        "    print(\"No GPU detected, using CPU.\")\n",
        "\n",
        "print(f\"Using device: {device}\")\n",
        "\n",
        "# set gpu to use max memory\n",
        "if gpus:\n",
        "    try:\n",
        "        for gpu in gpus:\n",
        "            tf.config.set_logical_device_configuration(\n",
        "                gpu,\n",
        "                [tf.config.LogicalDeviceConfiguration(memory_limit=4000)]  # Set in MB (e.g., 10GB)\n",
        "            )\n",
        "        print(\"Set TensorFlow to use max GPU memory.\")\n",
        "    except RuntimeError as e:\n",
        "        print(e)\n"
      ]
    },
    {
      "cell_type": "markdown",
      "metadata": {
        "id": "hlbcvDAA0p01"
      },
      "source": [
        "# 1) Data Import #"
      ]
    },
    {
      "cell_type": "code",
      "execution_count": 11,
      "metadata": {
        "id": "sgQo6Eih0p02"
      },
      "outputs": [],
      "source": [
        "# paths for data\n",
        "train_dir = \"/content/drive/MyDrive/Colab Notebooks/data/small_train\"\n",
        "# val_dir = \"C:/Users/RoiMinuit/Desktop/data/ILSVRC/Data/CLS-LOC/val\"\n",
        "# test_dir = \"C:/Users/RoiMinuit/Desktop/data/ILSVRC/Data/CLS-LOC/test\"\n"
      ]
    },
    {
      "cell_type": "code",
      "execution_count": 12,
      "metadata": {
        "id": "UGptdkCf0p02",
        "outputId": "fa334ebd-aaef-480a-d073-25ddb6f862c9",
        "colab": {
          "base_uri": "https://localhost:8080/"
        }
      },
      "outputs": [
        {
          "output_type": "stream",
          "name": "stdout",
          "text": [
            "Function processed 5000 images in 361 seconds.\n",
            "\n"
          ]
        }
      ],
      "source": [
        "# import images\n",
        "train_images, train_labels = fast_import2(train_dir, 5000)\n",
        "# test_images = import_others(test_dir, 750)\n",
        "# val_images = import_others(val_dir, 750)\n"
      ]
    },
    {
      "cell_type": "code",
      "execution_count": 20,
      "metadata": {
        "id": "QXO3VM3A0p03"
      },
      "outputs": [],
      "source": [
        "with tf.device(device):\n",
        "  # prepare training data\n",
        "  # tf.compat.v1.disable_eager_execution()\n",
        "  X_train = np.array(train_images)\n",
        "  X_train = np.repeat(X_train, 3, -1)\n",
        "\n",
        "  Y_train = [str(s) for s in train_labels]\n",
        "  label_encoder = LabelEncoder()\n",
        "  Y_train = label_encoder.fit_transform(Y_train)\n",
        "  Y_hot = to_categorical(Y_train)\n",
        "\n",
        "# X_train = tf.convert_to_tensor(X_train, dtype=tf.float32)\n",
        "# Y_hot = tf.convert_to_tensor(Y_hot, dtype=tf.float32)\n"
      ]
    },
    {
      "cell_type": "markdown",
      "metadata": {
        "id": "id97YGzB0p03"
      },
      "source": [
        "# 4) Model Definition #"
      ]
    },
    {
      "cell_type": "markdown",
      "metadata": {
        "id": "OdEf8QBo0p03"
      },
      "source": [
        "### b) Base CNN Model ###"
      ]
    },
    {
      "cell_type": "code",
      "execution_count": null,
      "metadata": {
        "id": "veuSeMm80p03"
      },
      "outputs": [],
      "source": [
        "# 2) GPU-build and compile the convolutional neural network (CNN) model - ONLY ONCE\n",
        "K.clear_session()\n",
        "policy = mixed_precision.Policy('mixed_float16')\n",
        "mixed_precision.set_global_policy(policy)\n",
        "# Allow memory growth on the GPU\n",
        "# physical_devices = tf.config.list_physical_devices('GPU')\n",
        "# for device in physical_devices:\n",
        "#     tf.config.experimental.set_memory_growth(device, True)\n",
        "# strategy = tf.distribute.MirroredStrategy()\n",
        "# with strategy.scope():\n",
        "with tf.device('/GPU:0'):\n",
        "    CNN2 = keras.Sequential([\n",
        "                    # first convolutional layer\n",
        "                    Conv2D(32, (3, 3), activation='relu', input_shape=(64, 64, 3)),\n",
        "                    BatchNormalization(),\n",
        "                    MaxPooling2D((2, 2)),\n",
        "                    # second convolutional layer with 64 neurons and w/out shape\n",
        "                    Conv2D(64, (3, 3), activation='relu'),\n",
        "                    BatchNormalization(),\n",
        "                    MaxPooling2D((2, 2)),\n",
        "                    # third convolutional layer with 64 neurons and w/out shape\n",
        "                    Conv2D(128, (3, 3), activation='relu'),\n",
        "                    BatchNormalization(),\n",
        "                    MaxPooling2D((2, 2)),\n",
        "                    # # Flatten out the layers\n",
        "                    # Flatten(),\n",
        "                    # Dense layer with 64 neurons and relu activation\n",
        "                    GlobalAveragePooling2D(),\n",
        "                    BatchNormalization(),\n",
        "                    # Dropout layer to prevent overfitting by dropping 50% of neurons\n",
        "                    Dropout(0.4),\n",
        "                    # Output layer with 1000 classes and softmax activation\n",
        "                    Dense(1000, activation='softmax')\n",
        "            ])\n",
        "\n",
        "    # compile model with adam, categorical crossentropy, accuracy, precision, and recall\n",
        "    early_stop = EarlyStopping(monitor='val_loss', patience=5, restore_best_weights=True)\n",
        "    CNN2.compile(optimizer=keras.optimizers.Adam(learning_rate=0.0001),\n",
        "                    loss='categorical_crossentropy',\n",
        "                    metrics=['accuracy', Precision(), Recall()])\n",
        "\n",
        "# train the model\n",
        "K.clear_session()\n",
        "hist_2 = CNN2.fit(\n",
        "    X_train, Y_hot,\n",
        "    batch_size=8,\n",
        "    epochs=50,\n",
        "    validation_split=0.2,\n",
        "    callbacks=[early_stop]\n",
        ")\n",
        "\n",
        "# plot training results\n",
        "plot_training_results(hist_2)"
      ]
    },
    {
      "cell_type": "markdown",
      "source": [
        "### c) Test Base Model ###"
      ],
      "metadata": {
        "id": "Y0Z63esaJc6t"
      }
    },
    {
      "cell_type": "code",
      "source": [
        "def build_model(lr=0.05):\n",
        "  CNN2 = keras.Sequential([\n",
        "                    # first convolutional layer\n",
        "                    Conv2D(32, (3, 3), activation='relu', input_shape=(128, 128, 3)),\n",
        "                    BatchNormalization(),\n",
        "                    MaxPooling2D((2, 2)),\n",
        "                    # second convolutional layer with 64 neurons and w/out shape\n",
        "                    Conv2D(64, (3, 3), activation='relu'),\n",
        "                    BatchNormalization(),\n",
        "                    MaxPooling2D((2, 2)),\n",
        "                    # third convolutional layer with 64 neurons and w/out shape\n",
        "                    Conv2D(64, (3, 3), activation='relu'),\n",
        "                    BatchNormalization(),\n",
        "                    MaxPooling2D((2, 2)),\n",
        "                    # # Flatten out the layers\n",
        "                    # Flatten(),\n",
        "                    # Dense layer with 64 neurons and relu activation\n",
        "                    GlobalAveragePooling2D(),\n",
        "                    BatchNormalization(),\n",
        "                    # Dropout layer to prevent overfitting by dropping 50% of neurons\n",
        "                    Dropout(0.4),\n",
        "                    # Output layer with 1000 classes and softmax activation\n",
        "                    Dense(len(Y_hot[0]), activation='softmax')\n",
        "            ])\n",
        "  CNN2.compile(optimizer=keras.optimizers.Adam(learning_rate=lr),\n",
        "                    loss='categorical_crossentropy',\n",
        "                    metrics=['accuracy', Precision(), Recall()])\n",
        "  return CNN2\n",
        "\n",
        "def train_model(model, batch=0, epx=0):\n",
        "  hist = model.fit(\n",
        "          X_train, Y_hot,\n",
        "          batch_size=batch,\n",
        "          epochs=epx,\n",
        "          validation_split=0.2\n",
        "        )\n",
        "  return hist\n",
        "\n",
        "def test_all(lr, model, batch, epx):\n",
        "  return plot_training_results(train_model(build_model(lr), batch=batch, epx=epx))"
      ],
      "metadata": {
        "id": "3nOt_WhoHs_t"
      },
      "execution_count": 25,
      "outputs": []
    },
    {
      "cell_type": "code",
      "source": [
        "test_all(0.03, train_model(build_model()), 10, 15)"
      ],
      "metadata": {
        "colab": {
          "base_uri": "https://localhost:8080/",
          "height": 1000
        },
        "id": "1jZdmHAHH2nB",
        "outputId": "d788912e-08fd-4bea-f385-df7c666b95f3"
      },
      "execution_count": 28,
      "outputs": [
        {
          "output_type": "stream",
          "name": "stderr",
          "text": [
            "/usr/local/lib/python3.11/dist-packages/keras/src/layers/convolutional/base_conv.py:107: UserWarning: Do not pass an `input_shape`/`input_dim` argument to a layer. When using Sequential models, prefer using an `Input(shape)` object as the first layer in the model instead.\n",
            "  super().__init__(activity_regularizer=activity_regularizer, **kwargs)\n",
            "/usr/local/lib/python3.11/dist-packages/keras/src/layers/convolutional/base_conv.py:107: UserWarning: Do not pass an `input_shape`/`input_dim` argument to a layer. When using Sequential models, prefer using an `Input(shape)` object as the first layer in the model instead.\n",
            "  super().__init__(activity_regularizer=activity_regularizer, **kwargs)\n"
          ]
        },
        {
          "output_type": "stream",
          "name": "stdout",
          "text": [
            "Epoch 1/15\n",
            "\u001b[1m400/400\u001b[0m \u001b[32m━━━━━━━━━━━━━━━━━━━━\u001b[0m\u001b[37m\u001b[0m \u001b[1m11s\u001b[0m 13ms/step - accuracy: 0.1025 - loss: 3.1729 - precision_8: 0.1370 - recall_8: 0.0075 - val_accuracy: 0.0750 - val_loss: 2.8812 - val_precision_8: 0.0000e+00 - val_recall_8: 0.0000e+00\n",
            "Epoch 2/15\n",
            "\u001b[1m400/400\u001b[0m \u001b[32m━━━━━━━━━━━━━━━━━━━━\u001b[0m\u001b[37m\u001b[0m \u001b[1m4s\u001b[0m 9ms/step - accuracy: 0.1049 - loss: 2.7879 - precision_8: 0.0743 - recall_8: 3.2401e-04 - val_accuracy: 0.0870 - val_loss: 4.6970 - val_precision_8: 0.0000e+00 - val_recall_8: 0.0000e+00\n",
            "Epoch 3/15\n",
            "\u001b[1m400/400\u001b[0m \u001b[32m━━━━━━━━━━━━━━━━━━━━\u001b[0m\u001b[37m\u001b[0m \u001b[1m5s\u001b[0m 10ms/step - accuracy: 0.1124 - loss: 2.7527 - precision_8: 0.1788 - recall_8: 0.0020 - val_accuracy: 0.0800 - val_loss: 5.8608 - val_precision_8: 0.1163 - val_recall_8: 0.0150\n",
            "Epoch 4/15\n",
            "\u001b[1m400/400\u001b[0m \u001b[32m━━━━━━━━━━━━━━━━━━━━\u001b[0m\u001b[37m\u001b[0m \u001b[1m4s\u001b[0m 9ms/step - accuracy: 0.1194 - loss: 2.7427 - precision_8: 0.2567 - recall_8: 0.0038 - val_accuracy: 0.0850 - val_loss: 5.8591 - val_precision_8: 0.1512 - val_recall_8: 0.0260\n",
            "Epoch 5/15\n",
            "\u001b[1m400/400\u001b[0m \u001b[32m━━━━━━━━━━━━━━━━━━━━\u001b[0m\u001b[37m\u001b[0m \u001b[1m5s\u001b[0m 8ms/step - accuracy: 0.1269 - loss: 2.7149 - precision_8: 0.2386 - recall_8: 0.0049 - val_accuracy: 0.1210 - val_loss: 2.8087 - val_precision_8: 0.2826 - val_recall_8: 0.0260\n",
            "Epoch 6/15\n",
            "\u001b[1m400/400\u001b[0m \u001b[32m━━━━━━━━━━━━━━━━━━━━\u001b[0m\u001b[37m\u001b[0m \u001b[1m4s\u001b[0m 9ms/step - accuracy: 0.1499 - loss: 2.6780 - precision_8: 0.1739 - recall_8: 0.0034 - val_accuracy: 0.1080 - val_loss: 3.4898 - val_precision_8: 0.1980 - val_recall_8: 0.0590\n",
            "Epoch 7/15\n",
            "\u001b[1m400/400\u001b[0m \u001b[32m━━━━━━━━━━━━━━━━━━━━\u001b[0m\u001b[37m\u001b[0m \u001b[1m3s\u001b[0m 9ms/step - accuracy: 0.1408 - loss: 2.6626 - precision_8: 0.2405 - recall_8: 0.0060 - val_accuracy: 0.1290 - val_loss: 2.8356 - val_precision_8: 0.3370 - val_recall_8: 0.0310\n",
            "Epoch 8/15\n",
            "\u001b[1m400/400\u001b[0m \u001b[32m━━━━━━━━━━━━━━━━━━━━\u001b[0m\u001b[37m\u001b[0m \u001b[1m5s\u001b[0m 9ms/step - accuracy: 0.1576 - loss: 2.6886 - precision_8: 0.2211 - recall_8: 0.0056 - val_accuracy: 0.1020 - val_loss: 3.6108 - val_precision_8: 0.1511 - val_recall_8: 0.0500\n",
            "Epoch 9/15\n",
            "\u001b[1m400/400\u001b[0m \u001b[32m━━━━━━━━━━━━━━━━━━━━\u001b[0m\u001b[37m\u001b[0m \u001b[1m5s\u001b[0m 10ms/step - accuracy: 0.1697 - loss: 2.6412 - precision_8: 0.4128 - recall_8: 0.0174 - val_accuracy: 0.1400 - val_loss: 2.7667 - val_precision_8: 0.2895 - val_recall_8: 0.0110\n",
            "Epoch 10/15\n",
            "\u001b[1m400/400\u001b[0m \u001b[32m━━━━━━━━━━━━━━━━━━━━\u001b[0m\u001b[37m\u001b[0m \u001b[1m3s\u001b[0m 8ms/step - accuracy: 0.1536 - loss: 2.6160 - precision_8: 0.3252 - recall_8: 0.0097 - val_accuracy: 0.0960 - val_loss: 3.7552 - val_precision_8: 0.2500 - val_recall_8: 0.0320\n",
            "Epoch 11/15\n",
            "\u001b[1m400/400\u001b[0m \u001b[32m━━━━━━━━━━━━━━━━━━━━\u001b[0m\u001b[37m\u001b[0m \u001b[1m5s\u001b[0m 9ms/step - accuracy: 0.1563 - loss: 2.6277 - precision_8: 0.2867 - recall_8: 0.0090 - val_accuracy: 0.1150 - val_loss: 3.1045 - val_precision_8: 0.2294 - val_recall_8: 0.0250\n",
            "Epoch 12/15\n",
            "\u001b[1m400/400\u001b[0m \u001b[32m━━━━━━━━━━━━━━━━━━━━\u001b[0m\u001b[37m\u001b[0m \u001b[1m5s\u001b[0m 10ms/step - accuracy: 0.1846 - loss: 2.5892 - precision_8: 0.4040 - recall_8: 0.0180 - val_accuracy: 0.1020 - val_loss: 4.1900 - val_precision_8: 0.1324 - val_recall_8: 0.0630\n",
            "Epoch 13/15\n",
            "\u001b[1m400/400\u001b[0m \u001b[32m━━━━━━━━━━━━━━━━━━━━\u001b[0m\u001b[37m\u001b[0m \u001b[1m4s\u001b[0m 8ms/step - accuracy: 0.1746 - loss: 2.6022 - precision_8: 0.3751 - recall_8: 0.0172 - val_accuracy: 0.1530 - val_loss: 3.6333 - val_precision_8: 0.2556 - val_recall_8: 0.0340\n",
            "Epoch 14/15\n",
            "\u001b[1m400/400\u001b[0m \u001b[32m━━━━━━━━━━━━━━━━━━━━\u001b[0m\u001b[37m\u001b[0m \u001b[1m3s\u001b[0m 8ms/step - accuracy: 0.1793 - loss: 2.5801 - precision_8: 0.2609 - recall_8: 0.0144 - val_accuracy: 0.0530 - val_loss: 4.7555 - val_precision_8: 0.0596 - val_recall_8: 0.0520\n",
            "Epoch 15/15\n",
            "\u001b[1m400/400\u001b[0m \u001b[32m━━━━━━━━━━━━━━━━━━━━\u001b[0m\u001b[37m\u001b[0m \u001b[1m4s\u001b[0m 9ms/step - accuracy: 0.1757 - loss: 2.5835 - precision_8: 0.2003 - recall_8: 0.0088 - val_accuracy: 0.1200 - val_loss: 4.7105 - val_precision_8: 0.1204 - val_recall_8: 0.1040\n"
          ]
        },
        {
          "output_type": "display_data",
          "data": {
            "text/plain": [
              "<Figure size 1200x400 with 1 Axes>"
            ],
            "image/png": "[encoded data removed]"
          },
          "metadata": {}
        },
        {
          "output_type": "display_data",
          "data": {
            "text/plain": [
              "<Figure size 640x480 with 1 Axes>"
            ],
            "image/png": "[encoded data removed]"
          },
          "metadata": {}
        }
      ]
    }
  ],
  "metadata": {
    "colab": {
      "provenance": [],
      "gpuType": "T4"
    },
    "kernelspec": {
      "display_name": "Python 3",
      "name": "python3"
    },
    "language_info": {
      "codemirror_mode": {
        "name": "ipython",
        "version": 3
      },
      "file_extension": ".py",
      "mimetype": "text/x-python",
      "name": "python",
      "nbconvert_exporter": "python",
      "pygments_lexer": "ipython3",
      "version": "3.9.21"
    },
    "accelerator": "GPU"
  },
  "nbformat": 4,
  "nbformat_minor": 0
}