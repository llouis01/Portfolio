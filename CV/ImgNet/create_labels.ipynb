{
 "cells": [
  {
   "cell_type": "markdown",
   "metadata": {},
   "source": [
    "## Process JSON File ##"
   ]
  },
  {
   "cell_type": "code",
   "execution_count": null,
   "metadata": {},
   "outputs": [],
   "source": [
    "# import\n",
    "import pandas as pd\n",
    "import json\n",
    "\n",
    "# read data\n",
    "path = \"~/Desktop/data/ILSVRC/labels\"\n",
    "with open(path + \"/imagenet_class_index.json\") as path:\n",
    "    data = json.load(path)\n",
    "\n",
    "labels_df = pd.DataFrame(data)\n",
    "labels_df = labels_df.transpose()\n"
   ]
  },
  {
   "cell_type": "code",
   "execution_count": null,
   "metadata": {},
   "outputs": [],
   "source": [
    "# rename cols\n",
    "labels_df.rename(columns={\n",
    "    0: 'label',\n",
    "    1: 'description'\n",
    "}, inplace=True)\n",
    "\n",
    "# save to csv\n",
    "labels_df.to_csv(\"~/Desktop/data/ILSVRC/labels/imagenet_class_index.csv\", index=False)"
   ]
  }
 ],
 "metadata": {
  "kernelspec": {
   "display_name": "cv",
   "language": "python",
   "name": "python3"
  },
  "language_info": {
   "codemirror_mode": {
    "name": "ipython",
    "version": 3
   },
   "file_extension": ".py",
   "mimetype": "text/x-python",
   "name": "python",
   "nbconvert_exporter": "python",
   "pygments_lexer": "ipython3",
   "version": "3.11.11"
  }
 },
 "nbformat": 4,
 "nbformat_minor": 2
}
