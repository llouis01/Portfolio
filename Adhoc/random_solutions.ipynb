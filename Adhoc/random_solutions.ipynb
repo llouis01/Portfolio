{
  "cells": [
    {
      "cell_type": "markdown",
      "metadata": {
        "id": "voW_8lnSAEe1"
      },
      "source": [
        "# Codeyard #"
      ]
    },
    {
      "cell_type": "markdown",
      "metadata": {
        "id": "6B1aXo6XAEe2"
      },
      "source": [
        "## Package Import ##"
      ]
    },
    {
      "cell_type": "code",
      "execution_count": 1,
      "metadata": {
        "id": "cJmsbazGAEe2"
      },
      "outputs": [],
      "source": [
        "import os\n",
        "import json\n",
        "import base64\n",
        "import requests\n",
        "import numpy as np\n",
        "import pandas as pd\n",
        "import random as rd\n",
        "from tqdm import tqdm\n",
        "from datetime import datetime, timedelta\n",
        "from concurrent.futures import ThreadPoolExecutor as TPE, as_completed"
      ]
    },
    {
      "cell_type": "markdown",
      "metadata": {
        "id": "hw_MPEXhAEe3"
      },
      "source": [
        "## Number Counter ##"
      ]
    },
    {
      "cell_type": "code",
      "execution_count": 2,
      "metadata": {
        "id": "x7sD4fyBAEe3"
      },
      "outputs": [],
      "source": [
        "def generate_numbers(n=int):\n",
        "    num = []\n",
        "    for i in range(n):\n",
        "        N = rd.randint(1, 100)\n",
        "        num.append(N)\n",
        "    return num"
      ]
    },
    {
      "cell_type": "code",
      "execution_count": 3,
      "metadata": {
        "colab": {
          "base_uri": "https://localhost:8080/"
        },
        "id": "BY3VU40mAEe3",
        "outputId": "4fbd585b-49cf-4264-9f85-5f2a4b110484"
      },
      "outputs": [
        {
          "output_type": "stream",
          "name": "stdout",
          "text": [
            "{97: 220, 70: 186, 94: 203, 87: 221, 80: 199, 75: 180, 39: 178, 10: 177, 9: 199, 11: 211, 78: 198, 76: 208, 62: 200, 73: 207, 1: 190, 51: 170, 3: 228, 29: 190, 92: 226, 55: 193, 32: 211, 40: 198, 41: 203, 45: 213, 65: 200, 84: 213, 42: 192, 30: 208, 38: 187, 37: 212, 28: 207, 20: 185, 14: 189, 33: 187, 69: 202, 64: 206, 61: 202, 59: 183, 6: 216, 8: 208, 31: 206, 60: 205, 16: 203, 68: 235, 18: 226, 93: 177, 43: 218, 54: 212, 2: 193, 49: 168, 58: 216, 71: 195, 57: 211, 47: 214, 95: 203, 35: 203, 83: 184, 99: 177, 17: 245, 15: 206, 74: 159, 27: 210, 7: 185, 25: 222, 89: 212, 5: 192, 98: 191, 77: 208, 79: 172, 90: 211, 26: 213, 72: 219, 50: 200, 22: 190, 82: 194, 67: 210, 88: 191, 86: 196, 12: 192, 96: 193, 85: 202, 23: 177, 44: 186, 63: 200, 91: 188, 81: 206, 19: 207, 36: 184, 56: 228, 52: 206, 21: 206, 100: 217, 24: 198, 53: 175, 46: 176, 34: 202, 4: 196, 66: 177, 13: 214, 48: 192}\n"
          ]
        }
      ],
      "source": [
        "numbers = generate_numbers(20000)\n",
        "\n",
        "num_dict = {}\n",
        "seen = []\n",
        "for num in numbers:\n",
        "    if num not in seen:\n",
        "        num_dict[num] = 1\n",
        "        seen.append(num)\n",
        "    else:\n",
        "        num_dict[num] += 1\n",
        "\n",
        "print(num_dict)"
      ]
    },
    {
      "cell_type": "markdown",
      "metadata": {
        "id": "Fop14RsEAEe3"
      },
      "source": [
        "## Index Finder ##"
      ]
    },
    {
      "cell_type": "code",
      "execution_count": 46,
      "metadata": {
        "colab": {
          "base_uri": "https://localhost:8080/"
        },
        "id": "DHXsm4gHAEe4",
        "outputId": "fd09a947-2ddb-4a8f-962f-f18668e4406a"
      },
      "outputs": [
        {
          "output_type": "stream",
          "name": "stdout",
          "text": [
            "21 is present at index 2: [55, 72, 21, 10, 26, 99, 66, 57, 80, 95].\n"
          ]
        }
      ],
      "source": [
        "# find index of given number, else return -1\n",
        "def search_arr(arr, key):\n",
        "    if len(arr) == 0:\n",
        "        print(\"Array is empty.\")\n",
        "    elif key in arr:\n",
        "        return f\"{key} is present at index {arr.index(key)}: {arr}.\"\n",
        "    else:\n",
        "        return f\"{key} is not in present in array: {arr}\"\n",
        "\n",
        "if __name__ == \"__main__\":\n",
        "    arr = [n for n in generate_numbers(10)]\n",
        "    key = rd.randint(min(arr), max(arr))\n",
        "\n",
        "    ding = search_arr(arr, key)\n",
        "    print(ding)"
      ]
    },
    {
      "cell_type": "markdown",
      "metadata": {
        "id": "W3V2ab0pAEe4"
      },
      "source": [
        "## Aggregate Items ##"
      ]
    },
    {
      "cell_type": "code",
      "execution_count": 51,
      "metadata": {
        "colab": {
          "base_uri": "https://localhost:8080/"
        },
        "id": "2NYQUoZ-AEe4",
        "outputId": "ddefaf6a-e430-40e6-e474-da76939de03d"
      },
      "outputs": [
        {
          "output_type": "stream",
          "name": "stdout",
          "text": [
            "[('B', 40000296795), ('A', 39924941315), ('Z', 39964859132), ('C', 40005285432), ('D', 39939764175)] \n",
            "\n",
            "  product       amount\n",
            "0       B  40000296795\n",
            "1       A  39924941315\n",
            "2       Z  39964859132\n",
            "3       C  40005285432\n",
            "4       D  39939764175\n",
            "\n",
            "Or you can just use Pandas' pivot_table...\n",
            "\n",
            "                  mean                                               \\\n",
            "product              A              B              C              D   \n",
            "amount   200096.935342  199676.012075  199685.962594  199338.019061   \n",
            "\n",
            "                                sum                                         \\\n",
            "product              Z            A            B            C            D   \n",
            "amount   200382.360534  39924941315  40000296795  40005285432  39939764175   \n",
            "\n",
            "                      \n",
            "product            Z  \n",
            "amount   39964859132  \n"
          ]
        }
      ],
      "source": [
        "# fx to create random date\n",
        "def random_date(start, end):\n",
        "    delta = end - start\n",
        "    rand_days = rd.randint(0, delta.days)\n",
        "    random_date = start + timedelta(days=rand_days)\n",
        "    return random_date.strftime('%Y-%m-%d')\n",
        "\n",
        "# create df with date, product, and amount\n",
        "start = datetime(2000, 1, 1)\n",
        "end = datetime(2025, 1, 1)\n",
        "products = []\n",
        "\n",
        "for i in range(1000000):\n",
        "    sales = {}\n",
        "    sales['date'] = random_date(start, end)\n",
        "    sales['product'] = rd.choice(['A', 'B', 'C', 'D', 'Z'])\n",
        "    sales['amount'] = rd.randint(1, 400000)\n",
        "    products.append(sales)\n",
        "\n",
        "# aggregate sales by product\n",
        "prods = {}\n",
        "for row in products:\n",
        "    if row['product'] not in prods:\n",
        "        # print(f\"{row['product']} added with initial amount: {row['amount']}\")\n",
        "        prods[row['product']] = row['amount']\n",
        "    else:\n",
        "        prods[row['product']] += row['amount']\n",
        "        # print(f\"Product {row['product']} increased by {row['amount']}...\")\n",
        "print([(prod, amt) for (prod, amt) in prods.items()], \"\\n\")\n",
        "df = pd.DataFrame(columns=['product', 'amount'], data=prods.items())\n",
        "print(df)\n",
        "\n",
        "# Pivot_table\n",
        "print(\"\\nOr you can just use Pandas' pivot_table...\\n\")\n",
        "print(pd.pivot_table(pd.DataFrame(products), values='amount', columns='product', aggfunc=[\"mean\", \"sum\"]))"
      ]
    }
  ],
  "metadata": {
    "kernelspec": {
      "display_name": "gym",
      "language": "python",
      "name": "python3"
    },
    "language_info": {
      "codemirror_mode": {
        "name": "ipython",
        "version": 3
      },
      "file_extension": ".py",
      "mimetype": "text/x-python",
      "name": "python",
      "nbconvert_exporter": "python",
      "pygments_lexer": "ipython3",
      "version": "3.13.2"
    },
    "colab": {
      "provenance": [],
      "toc_visible": true
    }
  },
  "nbformat": 4,
  "nbformat_minor": 0
}