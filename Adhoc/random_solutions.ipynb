{
 "cells": [
  {
   "cell_type": "markdown",
   "metadata": {},
   "source": [
    "# Codeyard #"
   ]
  },
  {
   "cell_type": "markdown",
   "metadata": {},
   "source": [
    "## Package Import ##"
   ]
  },
  {
   "cell_type": "code",
   "execution_count": null,
   "metadata": {},
   "outputs": [],
   "source": [
    "import os\n",
    "import json\n",
    "import base64\n",
    "import requests\n",
    "import numpy as np\n",
    "import pandas as pd\n",
    "import random as rd\n",
    "from tqdm import tqdm\n",
    "from datetime import datetime, timedelta\n",
    "from concurrent.futures import ThreadPoolExecutor as TPE, as_completed"
   ]
  },
  {
   "cell_type": "markdown",
   "metadata": {},
   "source": [
    "## Number Counter ##"
   ]
  },
  {
   "cell_type": "code",
   "execution_count": null,
   "metadata": {},
   "outputs": [],
   "source": [
    "def generate_numbers(n=int):\n",
    "    num = []\n",
    "    for i in range(n):\n",
    "        N = rd.randint(1, 100)\n",
    "        num.append(N)\n",
    "    return num"
   ]
  },
  {
   "cell_type": "code",
   "execution_count": null,
   "metadata": {},
   "outputs": [],
   "source": [
    "numbers = generate_numbers(20000)\n",
    "\n",
    "num_dict = {}\n",
    "seen = []\n",
    "for num in numbers:\n",
    "    if num not in seen:\n",
    "        num_dict[num] = 1\n",
    "        seen.append(num)\n",
    "    else:\n",
    "        num_dict[num] += 1\n",
    "\n",
    "print(num_dict)"
   ]
  },
  {
   "cell_type": "markdown",
   "metadata": {},
   "source": [
    "## Index Finder ##"
   ]
  },
  {
   "cell_type": "code",
   "execution_count": null,
   "metadata": {},
   "outputs": [],
   "source": [
    "# find index of given number, else return -1\n",
    "def search_arr(arr, key):\n",
    "    if len(arr) == 0:\n",
    "        print(\"Array is empty.\")\n",
    "    elif key in arr:\n",
    "        print(f\"{key} is present at index {arr.index(key)}.\")\n",
    "    else:\n",
    "        return f\"{key} is not in present in array: {arr}\"\n",
    "\n",
    "if __name__ == \"__main__\":\n",
    "    arr = [n for n in generate_numbers(10)]\n",
    "    key = rd.randint(min(arr), max(arr))\n",
    "\n",
    "    ding = search_arr(arr, key)\n",
    "    print(ding)"
   ]
  },
  {
   "cell_type": "markdown",
   "metadata": {},
   "source": [
    "## Aggregate Items ##"
   ]
  },
  {
   "cell_type": "code",
   "execution_count": null,
   "metadata": {},
   "outputs": [],
   "source": [
    "# fx to create random date\n",
    "def random_date(start, end):\n",
    "    delta = end - start\n",
    "    rand_days = rd.randint(0, delta.days)\n",
    "    random_date = start + timedelta(days=rand_days)\n",
    "    return random_date.strftime('%Y-%m-%d')\n",
    "\n",
    "# create df with date, product, and amount\n",
    "start = datetime(2000, 1, 1)\n",
    "end = datetime(2025, 1, 1)\n",
    "products = []\n",
    "\n",
    "for i in range(1000000):\n",
    "    sales = {}\n",
    "    sales['date'] = random_date(start, end)\n",
    "    sales['product'] = rd.choice(['A', 'B', 'C', 'D', 'Z'])\n",
    "    sales['amount'] = rd.randint(1, 400000)\n",
    "    products.append(sales)\n",
    "\n",
    "# aggregate sales by product\n",
    "prods = {}\n",
    "for row in products:\n",
    "    if row['product'] not in prods:\n",
    "        # print(f\"{row['product']} added with initial amount: {row['amount']}\")\n",
    "        prods[row['product']] = row['amount']\n",
    "    else:\n",
    "        prods[row['product']] += row['amount']\n",
    "        # print(f\"Product {row['product']} increased by {row['amount']}...\")\n",
    "df = pd.DataFrame(columns=['product', 'amount'], data=prods.items())\n",
    "    \n",
    "\n",
    "print([(prod, amt) for (prod, amt) in prods.items()])\n",
    "\n",
    "print(\"\\nOr you can just use Pandas' pivot_table...\\n\")\n",
    "\n",
    "print(pd.pivot_table(pd.DataFrame(products), values='amount', columns='product', aggfunc=[\"mean\", \"sum\"]))\n",
    "\n",
    "print(df)"
   ]
  },
  {
   "cell_type": "code",
   "execution_count": null,
   "metadata": {},
   "outputs": [],
   "source": [
    "# variables\n",
    "start_date = datetime(2024, 4, 13)\n",
    "end_date = datetime(2025, 4, 13)\n",
    "county = 'horry'\n",
    "\n",
    "# func to grab all data between two dates\n",
    "def get_jail_data(start_date, end_date, county):\n",
    "    data = []\n",
    "    while start_date <= end_date:\n",
    "        payload = {\n",
    "            \"bookingDate\": start_date.strftime(\"%Y-%m-%dT04:00:00.000Z\"),\n",
    "            \"county\": county\n",
    "        }\n",
    "        headers= {\"Content-Type\": \"application/json\"}\n",
    "        base_url = \"https://www.horrycountysc.gov/apps/bookings/api/bookings/search\"\n",
    "        response = requests.post(base_url, headers=headers, data=json.dumps(payload))\n",
    "        for row in response.json():\n",
    "            data.append(row)\n",
    "        start_date += timedelta(days=1)\n",
    "    return data\n"
   ]
  },
  {
   "cell_type": "code",
   "execution_count": null,
   "metadata": {},
   "outputs": [],
   "source": [
    "# get booking data from Horry PD\n",
    "data = get_jail_data(start_date, end_date, county)\n",
    "len(data)"
   ]
  }
 ],
 "metadata": {
  "kernelspec": {
   "display_name": "gym",
   "language": "python",
   "name": "python3"
  },
  "language_info": {
   "codemirror_mode": {
    "name": "ipython",
    "version": 3
   },
   "file_extension": ".py",
   "mimetype": "text/x-python",
   "name": "python",
   "nbconvert_exporter": "python",
   "pygments_lexer": "ipython3",
   "version": "3.13.2"
  }
 },
 "nbformat": 4,
 "nbformat_minor": 2
}
