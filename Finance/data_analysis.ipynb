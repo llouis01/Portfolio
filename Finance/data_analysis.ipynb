{
 "cells": [
  {
   "cell_type": "markdown",
   "metadata": {},
   "source": [
    "# Data Analysis #"
   ]
  },
  {
   "cell_type": "markdown",
   "metadata": {},
   "source": [
    "## Env Setup ##"
   ]
  },
  {
   "cell_type": "code",
   "execution_count": 1,
   "metadata": {},
   "outputs": [],
   "source": [
    "# lib imports\n",
    "import pandas as pd\n",
    "import numpy as np\n",
    "from utils import SQL2DF"
   ]
  },
  {
   "cell_type": "markdown",
   "metadata": {},
   "source": [
    "## Data Import ##"
   ]
  },
  {
   "cell_type": "code",
   "execution_count": 5,
   "metadata": {},
   "outputs": [
    {
     "name": "stdout",
     "output_type": "stream",
     "text": [
      "<class 'pandas.core.frame.DataFrame'>\n",
      "RangeIndex: 24468 entries, 0 to 24467\n",
      "Data columns (total 11 columns):\n",
      " #   Column       Non-Null Count  Dtype         \n",
      "---  ------       --------------  -----         \n",
      " 0   date         24468 non-null  datetime64[ns]\n",
      " 1   close_gspc   24468 non-null  float64       \n",
      " 2   high_gspc    24468 non-null  float64       \n",
      " 3   low_gspc     24468 non-null  float64       \n",
      " 4   open_gspc    24468 non-null  float64       \n",
      " 5   volume_gspc  24468 non-null  float64       \n",
      " 6   cpi          24468 non-null  float64       \n",
      " 7   unrate       24468 non-null  float64       \n",
      " 8   csi          24468 non-null  float64       \n",
      " 9   dff          24468 non-null  float64       \n",
      " 10  30y_mort     24468 non-null  float64       \n",
      "dtypes: datetime64[ns](1), float64(10)\n",
      "memory usage: 2.1 MB\n",
      "None\n",
      "        date  close_gspc  high_gspc  low_gspc  open_gspc  volume_gspc   cpi  \\\n",
      "0 1927-12-30       17.66      17.66     17.66      17.66          0.0  17.1   \n",
      "1 1928-01-03       17.76      17.76     17.76      17.76          0.0  17.1   \n",
      "2 1928-01-04       17.72      17.72     17.72      17.72          0.0  17.1   \n",
      "3 1928-01-05       17.55      17.55     17.55      17.55          0.0  17.1   \n",
      "4 1928-01-06       17.66      17.66     17.66      17.66          0.0  17.1   \n",
      "\n",
      "   unrate   csi   dff  30y_mort  \n",
      "0     4.0  82.0  1.13      7.33  \n",
      "1     4.0  82.0  1.13      7.33  \n",
      "2     4.0  82.0  1.13      7.33  \n",
      "3     4.0  82.0  1.13      7.33  \n",
      "4     4.0  82.0  1.13      7.33  \n"
     ]
    }
   ],
   "source": [
    "# import data\n",
    "df = SQL2DF('fi_db', 'sp500', True)\n",
    "print(df.info())\n",
    "print(df.head())"
   ]
  },
  {
   "cell_type": "markdown",
   "metadata": {},
   "source": [
    "## Data Transform ##"
   ]
  },
  {
   "cell_type": "code",
   "execution_count": 6,
   "metadata": {},
   "outputs": [
    {
     "data": {
      "text/html": [
       "<div>\n",
       "<style scoped>\n",
       "    .dataframe tbody tr th:only-of-type {\n",
       "        vertical-align: middle;\n",
       "    }\n",
       "\n",
       "    .dataframe tbody tr th {\n",
       "        vertical-align: top;\n",
       "    }\n",
       "\n",
       "    .dataframe thead th {\n",
       "        text-align: right;\n",
       "    }\n",
       "</style>\n",
       "<table border=\"1\" class=\"dataframe\">\n",
       "  <thead>\n",
       "    <tr style=\"text-align: right;\">\n",
       "      <th></th>\n",
       "      <th>date</th>\n",
       "      <th>close_gspc</th>\n",
       "      <th>high_gspc</th>\n",
       "      <th>low_gspc</th>\n",
       "      <th>open_gspc</th>\n",
       "      <th>volume_gspc</th>\n",
       "      <th>cpi</th>\n",
       "      <th>unrate</th>\n",
       "      <th>csi</th>\n",
       "      <th>dff</th>\n",
       "      <th>30y_mort</th>\n",
       "    </tr>\n",
       "  </thead>\n",
       "  <tbody>\n",
       "    <tr>\n",
       "      <th>0</th>\n",
       "      <td>1927-12-30</td>\n",
       "      <td>17.66</td>\n",
       "      <td>17.66</td>\n",
       "      <td>17.66</td>\n",
       "      <td>17.66</td>\n",
       "      <td>0.0</td>\n",
       "      <td>17.1</td>\n",
       "      <td>4.0</td>\n",
       "      <td>82.0</td>\n",
       "      <td>1.13</td>\n",
       "      <td>7.33</td>\n",
       "    </tr>\n",
       "    <tr>\n",
       "      <th>1</th>\n",
       "      <td>1928-01-03</td>\n",
       "      <td>17.76</td>\n",
       "      <td>17.76</td>\n",
       "      <td>17.76</td>\n",
       "      <td>17.76</td>\n",
       "      <td>0.0</td>\n",
       "      <td>17.1</td>\n",
       "      <td>4.0</td>\n",
       "      <td>82.0</td>\n",
       "      <td>1.13</td>\n",
       "      <td>7.33</td>\n",
       "    </tr>\n",
       "    <tr>\n",
       "      <th>2</th>\n",
       "      <td>1928-01-04</td>\n",
       "      <td>17.72</td>\n",
       "      <td>17.72</td>\n",
       "      <td>17.72</td>\n",
       "      <td>17.72</td>\n",
       "      <td>0.0</td>\n",
       "      <td>17.1</td>\n",
       "      <td>4.0</td>\n",
       "      <td>82.0</td>\n",
       "      <td>1.13</td>\n",
       "      <td>7.33</td>\n",
       "    </tr>\n",
       "    <tr>\n",
       "      <th>3</th>\n",
       "      <td>1928-01-05</td>\n",
       "      <td>17.55</td>\n",
       "      <td>17.55</td>\n",
       "      <td>17.55</td>\n",
       "      <td>17.55</td>\n",
       "      <td>0.0</td>\n",
       "      <td>17.1</td>\n",
       "      <td>4.0</td>\n",
       "      <td>82.0</td>\n",
       "      <td>1.13</td>\n",
       "      <td>7.33</td>\n",
       "    </tr>\n",
       "    <tr>\n",
       "      <th>4</th>\n",
       "      <td>1928-01-06</td>\n",
       "      <td>17.66</td>\n",
       "      <td>17.66</td>\n",
       "      <td>17.66</td>\n",
       "      <td>17.66</td>\n",
       "      <td>0.0</td>\n",
       "      <td>17.1</td>\n",
       "      <td>4.0</td>\n",
       "      <td>82.0</td>\n",
       "      <td>1.13</td>\n",
       "      <td>7.33</td>\n",
       "    </tr>\n",
       "  </tbody>\n",
       "</table>\n",
       "</div>"
      ],
      "text/plain": [
       "        date  close_gspc  high_gspc  low_gspc  open_gspc  volume_gspc   cpi  \\\n",
       "0 1927-12-30       17.66      17.66     17.66      17.66          0.0  17.1   \n",
       "1 1928-01-03       17.76      17.76     17.76      17.76          0.0  17.1   \n",
       "2 1928-01-04       17.72      17.72     17.72      17.72          0.0  17.1   \n",
       "3 1928-01-05       17.55      17.55     17.55      17.55          0.0  17.1   \n",
       "4 1928-01-06       17.66      17.66     17.66      17.66          0.0  17.1   \n",
       "\n",
       "   unrate   csi   dff  30y_mort  \n",
       "0     4.0  82.0  1.13      7.33  \n",
       "1     4.0  82.0  1.13      7.33  \n",
       "2     4.0  82.0  1.13      7.33  \n",
       "3     4.0  82.0  1.13      7.33  \n",
       "4     4.0  82.0  1.13      7.33  "
      ]
     },
     "execution_count": 6,
     "metadata": {},
     "output_type": "execute_result"
    }
   ],
   "source": [
    "df.head()"
   ]
  }
 ],
 "metadata": {
  "kernelspec": {
   "display_name": "PYFI",
   "language": "python",
   "name": "python3"
  },
  "language_info": {
   "codemirror_mode": {
    "name": "ipython",
    "version": 3
   },
   "file_extension": ".py",
   "mimetype": "text/x-python",
   "name": "python",
   "nbconvert_exporter": "python",
   "pygments_lexer": "ipython3",
   "version": "3.13.2"
  }
 },
 "nbformat": 4,
 "nbformat_minor": 2
}
