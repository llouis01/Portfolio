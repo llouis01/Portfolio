{
 "cells": [
  {
   "cell_type": "markdown",
   "metadata": {},
   "source": [
    "# Financial Data Collection and Storage #"
   ]
  },
  {
   "cell_type": "markdown",
   "metadata": {},
   "source": [
    "## Env Setup ##"
   ]
  },
  {
   "cell_type": "code",
   "execution_count": 1,
   "metadata": {},
   "outputs": [],
   "source": [
    "# lib imports\n",
    "import re\n",
    "import requests\n",
    "import pandas as pd\n",
    "import yfinance as YF\n",
    "from fredapi import Fred\n",
    "import mysql.connector as SQL\n",
    "from utils import get_tickers\n"
   ]
  },
  {
   "cell_type": "markdown",
   "metadata": {},
   "source": [
    "## Stocks and Economic Indicators ##"
   ]
  },
  {
   "cell_type": "code",
   "execution_count": 2,
   "metadata": {},
   "outputs": [],
   "source": [
    "# define key variables\n",
    "fred_key = \"7c1f3f043ef85e198d4c6c17e0d8109e\"\n",
    "tickers = [\n",
    "    \"AAPL\",  # Apple\n",
    "    \"MSFT\",  # Microsoft\n",
    "    \"JPM\",   # JPMorgan Chase\n",
    "    \"WMT\",   # Walmart\n",
    "    \"META\",  # Meta Platforms\n",
    "    \"AMZN\",  # Amazon\n",
    "    \"LMT\",   # Lockheed Martin\n",
    "    \"GOOGL\", # Alphabet\n",
    "    \"GS\",    # Goldman Sachs\n",
    "    \"XOM\",   # ExxonMobil\n",
    "    \"CVX\",   # Chevron\n",
    "    \"PG\",    # Procter & Gamble\n",
    "    \"KO\",    # Coca-Cola\n",
    "    \"FDX\",   # FedEx\n",
    "    \"UNP\",   # Union Pacific\n",
    "    \"JNJ\",   # Johnson & Johnson\n",
    "    \"PFE\"    # Pfizer\n",
    "]\n"
   ]
  },
  {
   "cell_type": "code",
   "execution_count": 3,
   "metadata": {},
   "outputs": [],
   "source": [
    "# pull stocks data\n",
    "stocks = get_tickers(tickers, period='max')\n",
    "stocks.reset_index(inplace=True)"
   ]
  },
  {
   "cell_type": "code",
   "execution_count": 4,
   "metadata": {},
   "outputs": [],
   "source": [
    "# pull fred data\n",
    "fred_api = Fred(fred_key)\n",
    "cpi = fred_api.get_series('CPIAUCNS')\n",
    "unrate = fred_api.get_series(\"Unrate\")\n",
    "csi = fred_api.get_series(\"UMCSENT\")\n",
    "dff = fred_api.get_series(\"DFF\")\n",
    "m30 = fred_api.get_series('MORTGAGE30US')"
   ]
  },
  {
   "cell_type": "code",
   "execution_count": 5,
   "metadata": {},
   "outputs": [],
   "source": [
    "# join fred data\n",
    "fred = pd.DataFrame(pd.concat([cpi, unrate, csi, dff, m30], axis=1)).reset_index()\n",
    "fred.rename(columns={'index': 'Date', 0: 'cpi', 1: 'unrate', 2:'csi', 3: 'dff', 4: '30Y_mort'}, inplace=True)"
   ]
  },
  {
   "cell_type": "code",
   "execution_count": 6,
   "metadata": {},
   "outputs": [],
   "source": [
    "# Convert stock dates to naive datetime (removing timezone)\n",
    "stocks['Date'] = stocks['Date'].dt.tz_localize(None)\n",
    "\n",
    "# Convert fred dates to ensure consistency (though likely already naive)\n",
    "fred['Date'] = fred['Date'].dt.tz_localize(None)\n",
    "\n",
    "# merge data on date\n",
    "fi_df = pd.merge(stocks, fred, on='Date', how='left')\n",
    "\n",
    "# backfill monthly indicators to prevent NaN values\n",
    "fi_df[['cpi', 'unrate', 'csi', 'dff', '30Y_mort']] = fi_df[['cpi', 'unrate', 'csi', 'dff', '30Y_mort']].ffill()\n",
    "fi_df[['cpi', 'unrate', 'csi', 'dff', '30Y_mort']] = fi_df[['cpi', 'unrate', 'csi', 'dff', '30Y_mort']].bfill()\n",
    "\n",
    "# ensure consistency\n",
    "fi_df.columns = fi_df.columns.str.lower()\n",
    "# place ticker at pos 0\n",
    "fi_df.insert(0, 'ticker', fi_df.pop('ticker'))"
   ]
  },
  {
   "cell_type": "markdown",
   "metadata": {},
   "source": [
    "## SP500 and Economic Indicators ##"
   ]
  },
  {
   "cell_type": "code",
   "execution_count": 7,
   "metadata": {},
   "outputs": [],
   "source": [
    "# define vars\n",
    "fred_key = \"7c1f3f043ef85e198d4c6c17e0d8109e\""
   ]
  },
  {
   "cell_type": "code",
   "execution_count": 8,
   "metadata": {},
   "outputs": [
    {
     "name": "stdout",
     "output_type": "stream",
     "text": [
      "YF.download() has changed argument auto_adjust default to True\n"
     ]
    },
    {
     "name": "stderr",
     "output_type": "stream",
     "text": [
      "[*********************100%***********************]  1 of 1 completed\n"
     ]
    }
   ],
   "source": [
    "# pull fred and sp500 data\n",
    "fred_api = Fred(fred_key)\n",
    "cpi = fred_api.get_series('CPIAUCNS')\n",
    "unrate = fred_api.get_series(\"Unrate\")\n",
    "csi = fred_api.get_series(\"UMCSENT\")\n",
    "dff = fred_api.get_series(\"DFF\")\n",
    "m30 = fred_api.get_series(\"MORTGAGE30US\")\n",
    "sp5c = YF.download(\"^GSPC\", \"1900-01-01\")"
   ]
  },
  {
   "cell_type": "code",
   "execution_count": 9,
   "metadata": {},
   "outputs": [],
   "source": [
    "# reduce to single index\n",
    "sp5c.columns = ['_'.join(col) for col in sp5c.columns]\n",
    "sp5c.columns = [re.sub(r\"\\^\", \"\", col) for col in sp5c.columns]\n",
    "sp5c.reset_index(inplace=True)"
   ]
  },
  {
   "cell_type": "code",
   "execution_count": 10,
   "metadata": {},
   "outputs": [],
   "source": [
    "# join fred data\n",
    "fred = pd.DataFrame(pd.concat([cpi, unrate, csi, dff, m30], axis=1)).reset_index()\n",
    "fred.rename(columns={'index': 'Date', 0: 'cpi', 1: 'unrate', 2:'csi', 3: 'dff', 4: '30Y_mort'}, inplace=True)"
   ]
  },
  {
   "cell_type": "code",
   "execution_count": 11,
   "metadata": {},
   "outputs": [
    {
     "data": {
      "text/html": [
       "<div>\n",
       "<style scoped>\n",
       "    .dataframe tbody tr th:only-of-type {\n",
       "        vertical-align: middle;\n",
       "    }\n",
       "\n",
       "    .dataframe tbody tr th {\n",
       "        vertical-align: top;\n",
       "    }\n",
       "\n",
       "    .dataframe thead th {\n",
       "        text-align: right;\n",
       "    }\n",
       "</style>\n",
       "<table border=\"1\" class=\"dataframe\">\n",
       "  <thead>\n",
       "    <tr style=\"text-align: right;\">\n",
       "      <th></th>\n",
       "      <th>date</th>\n",
       "      <th>close_gspc</th>\n",
       "      <th>high_gspc</th>\n",
       "      <th>low_gspc</th>\n",
       "      <th>open_gspc</th>\n",
       "      <th>volume_gspc</th>\n",
       "      <th>cpi</th>\n",
       "      <th>unrate</th>\n",
       "      <th>csi</th>\n",
       "      <th>dff</th>\n",
       "      <th>30y_mort</th>\n",
       "    </tr>\n",
       "  </thead>\n",
       "  <tbody>\n",
       "    <tr>\n",
       "      <th>0</th>\n",
       "      <td>1927-12-30</td>\n",
       "      <td>17.660000</td>\n",
       "      <td>17.660000</td>\n",
       "      <td>17.660000</td>\n",
       "      <td>17.660000</td>\n",
       "      <td>0</td>\n",
       "      <td>17.1</td>\n",
       "      <td>4.0</td>\n",
       "      <td>82.0</td>\n",
       "      <td>1.13</td>\n",
       "      <td>7.33</td>\n",
       "    </tr>\n",
       "    <tr>\n",
       "      <th>1</th>\n",
       "      <td>1928-01-03</td>\n",
       "      <td>17.760000</td>\n",
       "      <td>17.760000</td>\n",
       "      <td>17.760000</td>\n",
       "      <td>17.760000</td>\n",
       "      <td>0</td>\n",
       "      <td>17.1</td>\n",
       "      <td>4.0</td>\n",
       "      <td>82.0</td>\n",
       "      <td>1.13</td>\n",
       "      <td>7.33</td>\n",
       "    </tr>\n",
       "    <tr>\n",
       "      <th>2</th>\n",
       "      <td>1928-01-04</td>\n",
       "      <td>17.719999</td>\n",
       "      <td>17.719999</td>\n",
       "      <td>17.719999</td>\n",
       "      <td>17.719999</td>\n",
       "      <td>0</td>\n",
       "      <td>17.1</td>\n",
       "      <td>4.0</td>\n",
       "      <td>82.0</td>\n",
       "      <td>1.13</td>\n",
       "      <td>7.33</td>\n",
       "    </tr>\n",
       "    <tr>\n",
       "      <th>3</th>\n",
       "      <td>1928-01-05</td>\n",
       "      <td>17.549999</td>\n",
       "      <td>17.549999</td>\n",
       "      <td>17.549999</td>\n",
       "      <td>17.549999</td>\n",
       "      <td>0</td>\n",
       "      <td>17.1</td>\n",
       "      <td>4.0</td>\n",
       "      <td>82.0</td>\n",
       "      <td>1.13</td>\n",
       "      <td>7.33</td>\n",
       "    </tr>\n",
       "    <tr>\n",
       "      <th>4</th>\n",
       "      <td>1928-01-06</td>\n",
       "      <td>17.660000</td>\n",
       "      <td>17.660000</td>\n",
       "      <td>17.660000</td>\n",
       "      <td>17.660000</td>\n",
       "      <td>0</td>\n",
       "      <td>17.1</td>\n",
       "      <td>4.0</td>\n",
       "      <td>82.0</td>\n",
       "      <td>1.13</td>\n",
       "      <td>7.33</td>\n",
       "    </tr>\n",
       "  </tbody>\n",
       "</table>\n",
       "</div>"
      ],
      "text/plain": [
       "        date  close_gspc  high_gspc   low_gspc  open_gspc  volume_gspc   cpi  \\\n",
       "0 1927-12-30   17.660000  17.660000  17.660000  17.660000            0  17.1   \n",
       "1 1928-01-03   17.760000  17.760000  17.760000  17.760000            0  17.1   \n",
       "2 1928-01-04   17.719999  17.719999  17.719999  17.719999            0  17.1   \n",
       "3 1928-01-05   17.549999  17.549999  17.549999  17.549999            0  17.1   \n",
       "4 1928-01-06   17.660000  17.660000  17.660000  17.660000            0  17.1   \n",
       "\n",
       "   unrate   csi   dff  30y_mort  \n",
       "0     4.0  82.0  1.13      7.33  \n",
       "1     4.0  82.0  1.13      7.33  \n",
       "2     4.0  82.0  1.13      7.33  \n",
       "3     4.0  82.0  1.13      7.33  \n",
       "4     4.0  82.0  1.13      7.33  "
      ]
     },
     "execution_count": 11,
     "metadata": {},
     "output_type": "execute_result"
    }
   ],
   "source": [
    "# merge data on date\n",
    "sp500 = pd.merge(sp5c, fred, on='Date', how='left')\n",
    "\n",
    "# backfill monthly indicators to prevent NaN values\n",
    "sp500[['cpi', 'unrate', 'csi', 'dff', '30Y_mort']] = sp500[['cpi', 'unrate', 'csi', 'dff', '30Y_mort']].ffill()\n",
    "sp500[['cpi', 'unrate', 'csi', 'dff', '30Y_mort']] = sp500[['cpi', 'unrate', 'csi', 'dff', '30Y_mort']].bfill()\n",
    "\n",
    "# ensure consistency\n",
    "sp500.columns = sp500.columns.str.lower()\n",
    "sp500.head()"
   ]
  },
  {
   "cell_type": "markdown",
   "metadata": {},
   "source": [
    "## Stock Storage ##"
   ]
  },
  {
   "cell_type": "code",
   "execution_count": 12,
   "metadata": {},
   "outputs": [],
   "source": [
    "# set up connection\n",
    "conn = SQL.connect(host='localhost',\n",
    "                   user='root',\n",
    "                   password='root',\n",
    "                   database='fi_db')\n",
    "\n",
    "cursor = conn.cursor()"
   ]
  },
  {
   "cell_type": "code",
   "execution_count": 13,
   "metadata": {},
   "outputs": [],
   "source": [
    "cursor.execute(\"DROP DATABASE IF EXISTS fi_db;\")"
   ]
  },
  {
   "cell_type": "code",
   "execution_count": 14,
   "metadata": {},
   "outputs": [],
   "source": [
    "# create db and activate db\n",
    "cursor.execute(\"CREATE DATABASE IF NOT EXISTS fi_db;\")\n",
    "cursor.execute(\"USE fi_db;\")\n",
    "\n",
    "# create table with schema\n",
    "cursor.execute(\"\"\"\n",
    "               CREATE TABLE IF NOT EXISTS hist(\n",
    "                id INT AUTO_INCREMENT PRIMARY KEY,\n",
    "                ticker VARCHAR(10),\n",
    "                date DATETIME,\n",
    "                open FLOAT,\n",
    "                high FLOAT,\n",
    "                low FLOAT,\n",
    "                close FLOAT,\n",
    "                volume FLOAT,\n",
    "                dividends FLOAT,\n",
    "                `stock splits` FLOAT,\n",
    "                cpi FLOAT,\n",
    "                unrate FLOAT,\n",
    "                csi FLOAT,\n",
    "                dff FLOAT,\n",
    "                30y_mort FLOAT);\n",
    "                \"\"\")"
   ]
  },
  {
   "cell_type": "code",
   "execution_count": 15,
   "metadata": {},
   "outputs": [],
   "source": [
    "# push fi_df to sql\n",
    "for idx, row in fi_df.iterrows():\n",
    "    cursor.execute(\"\"\"\n",
    "                   INSERT INTO fi_db.hist (ticker, date, open, high, low,\n",
    "                   close, volume, dividends, `stock splits`, cpi, unrate, csi, dff, 30y_mort)\n",
    "                   VALUES (%s, %s, %s, %s, %s, %s, %s, %s, %s, %s, %s, %s, %s, %s)\n",
    "                   \"\"\",\n",
    "                   (row['ticker'], row['date'], row['open'], row['high'], row['low'],\n",
    "                    row['close'], row['volume'], row['dividends'], row['stock splits'],\n",
    "                    row['cpi'], row['unrate'], row['csi'], row['dff'], row['30y_mort'])\n",
    "            )"
   ]
  },
  {
   "cell_type": "code",
   "execution_count": 16,
   "metadata": {},
   "outputs": [
    {
     "name": "stdout",
     "output_type": "stream",
     "text": [
      "Data successfully transferred!\n"
     ]
    }
   ],
   "source": [
    "# finalize the transfer\n",
    "try:\n",
    "    conn.commit()\n",
    "    cursor.close()\n",
    "    conn.close()\n",
    "    print(\"Data successfully transferred!\")\n",
    "except Exception as e:\n",
    "    print(e)"
   ]
  },
  {
   "cell_type": "markdown",
   "metadata": {},
   "source": [
    "## SP500 Storage ##"
   ]
  },
  {
   "cell_type": "code",
   "execution_count": 17,
   "metadata": {},
   "outputs": [],
   "source": [
    "# set up connection\n",
    "conn = SQL.connect(host='localhost',\n",
    "                   user='root',\n",
    "                   password='root',\n",
    "                   database='fi_db')\n",
    "\n",
    "cursor = conn.cursor()"
   ]
  },
  {
   "cell_type": "code",
   "execution_count": 18,
   "metadata": {},
   "outputs": [],
   "source": [
    "# create db and activate db\n",
    "cursor.execute(\"USE fi_db;\")\n",
    "\n",
    "# create table with schema\n",
    "cursor.execute(\"\"\"\n",
    "               CREATE TABLE IF NOT EXISTS sp500(\n",
    "                id INT AUTO_INCREMENT PRIMARY KEY,\n",
    "                date DATETIME,\n",
    "                close_gspc FLOAT,\n",
    "                high_gspc FLOAT,\n",
    "                low_gspc FLOAT,\n",
    "                open_gspc FLOAT,\n",
    "                volume_gspc FLOAT,\n",
    "                cpi FLOAT,\n",
    "                unrate FLOAT,\n",
    "                csi FLOAT,\n",
    "                dff FLOAT,\n",
    "                30y_mort FLOAT);\n",
    "                \"\"\")"
   ]
  },
  {
   "cell_type": "code",
   "execution_count": 19,
   "metadata": {},
   "outputs": [],
   "source": [
    "# push fi_df to sql\n",
    "for idx, row in sp500.iterrows():\n",
    "    cursor.execute(\"\"\"\n",
    "                   INSERT INTO fi_db.sp500 (date, close_gspc, high_gspc, low_gspc,\n",
    "                   open_gspc, volume_gspc, cpi, unrate, csi, dff, 30y_mort)\n",
    "                   VALUES (%s, %s, %s, %s, %s, %s, %s, %s, %s, %s, %s)\n",
    "                   \"\"\",\n",
    "                   (row['date'], row['close_gspc'], row['high_gspc'], row['low_gspc'],\n",
    "                    row['open_gspc'], row['volume_gspc'],row['cpi'], row['unrate'],\n",
    "                    row['csi'], row['dff'], row['30y_mort'])\n",
    "            )"
   ]
  },
  {
   "cell_type": "code",
   "execution_count": 20,
   "metadata": {},
   "outputs": [
    {
     "name": "stdout",
     "output_type": "stream",
     "text": [
      "Data successfully transferred!\n"
     ]
    }
   ],
   "source": [
    "# finalize the transfer\n",
    "try:\n",
    "    conn.commit()\n",
    "    cursor.close()\n",
    "    conn.close()\n",
    "    print(\"Data successfully transferred!\")\n",
    "except Exception as e:\n",
    "    print(e)"
   ]
  }
 ],
 "metadata": {
  "kernelspec": {
   "display_name": "PYFI",
   "language": "python",
   "name": "python3"
  },
  "language_info": {
   "codemirror_mode": {
    "name": "ipython",
    "version": 3
   },
   "file_extension": ".py",
   "mimetype": "text/x-python",
   "name": "python",
   "nbconvert_exporter": "python",
   "pygments_lexer": "ipython3",
   "version": "3.13.2"
  }
 },
 "nbformat": 4,
 "nbformat_minor": 2
}
